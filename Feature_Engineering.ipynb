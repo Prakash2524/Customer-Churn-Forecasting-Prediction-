{
 "cells": [
  {
   "cell_type": "code",
   "execution_count": 5,
   "id": "e495322e",
   "metadata": {},
   "outputs": [],
   "source": [
    "import pandas as pd \n",
    "import numpy as np\n",
    "import matplotlib.pyplot as plt\n",
    "import seaborn as sns"
   ]
  },
  {
   "cell_type": "code",
   "execution_count": 6,
   "id": "944da2f2",
   "metadata": {},
   "outputs": [],
   "source": [
    "# Load the Data\n",
    "data = pd.read_csv(\"D:\\\\Projects\\\\CCF Analysis Project\\\\creditcard.csv\")"
   ]
  },
  {
   "cell_type": "code",
   "execution_count": 7,
   "id": "6b23878c",
   "metadata": {},
   "outputs": [],
   "source": [
    "# Drop the 'Time' feature\n",
    "data.drop([\"Time\"], axis=1, inplace=True)"
   ]
  },
  {
   "cell_type": "code",
   "execution_count": 8,
   "id": "6f2861ec",
   "metadata": {},
   "outputs": [],
   "source": [
    "# Log-Transform 'Amount' to reduce skewness\n",
    "data[\"LogAmount\"] = np.log1p(data[\"Amount\"])"
   ]
  },
  {
   "cell_type": "code",
   "execution_count": 9,
   "id": "dd9af146",
   "metadata": {},
   "outputs": [],
   "source": [
    "# Optional: Drop original 'Amount' column (we've transformed it)\n",
    "data.drop([\"Amount\"], axis=1, inplace=True)\n"
   ]
  },
  {
   "cell_type": "code",
   "execution_count": null,
   "id": "f820ad89",
   "metadata": {},
   "outputs": [],
   "source": [
    "# Visualize the transvormed feature\n"
   ]
  }
 ],
 "metadata": {
  "kernelspec": {
   "display_name": "base",
   "language": "python",
   "name": "python3"
  },
  "language_info": {
   "codemirror_mode": {
    "name": "ipython",
    "version": 3
   },
   "file_extension": ".py",
   "mimetype": "text/x-python",
   "name": "python",
   "nbconvert_exporter": "python",
   "pygments_lexer": "ipython3",
   "version": "3.13.5"
  }
 },
 "nbformat": 4,
 "nbformat_minor": 5
}
